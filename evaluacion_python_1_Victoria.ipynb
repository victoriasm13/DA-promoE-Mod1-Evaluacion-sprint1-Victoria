{
 "cells": [
  {
   "attachments": {},
   "cell_type": "markdown",
   "metadata": {},
   "source": [
    "**Métodos de *strings***\n",
    "\n",
    "Dado el siguiente *string* \n",
    "\n",
    "```python\n",
    "\n",
    "string = \"\"\"Hoy estamos en una clase de repaso,\n",
    "el objetivo es intentar solucionar todas vuestras dudas, \n",
    "preguntad todo lo que queráis! \n",
    "\"\"\"\n",
    "```\n",
    "\n",
    "\n",
    "Contesta a las siguientes preguntas: \n",
    "\n",
    "1️⃣ Crea dos variables nuevas: \n",
    "    - Una con el *string* en mayúsculas\n",
    "    - Otra con las letras en minúsculas\n",
    "\n",
    "2️⃣ Pon todas las primeras letras del *string* en mayúscula\n",
    "\n",
    "3️⃣ Separa el *string*  por los espacios y almacena el resultado en una lista llamanda `texto_lista`\n",
    "\n",
    "4️⃣ De la lista obtenida en el ejercicio anterior, selecciona solo los 5 primero elementos y almacena los resultados en una variable que se llame `texto_lista_corta` \n",
    "\n",
    "5️⃣ De la lista obtenida en el ejercicio 5. Vuelve a convertirlo en *string* \n",
    "\n",
    "6️⃣ Con el *string* obtenido en el paso anterior: \n",
    "\n",
    "    - Esta la palabra \"el\" en el *string* \n",
    "\n",
    "    - Reemplaza \"Hoy\" por nada\n",
    "\n",
    "    - El ejercicio anterior nos ha dejado espacios al inicio del string, eliminalos\n"
   ]
  },
  {
   "cell_type": "code",
   "execution_count": 14,
   "metadata": {},
   "outputs": [
    {
     "name": "stdout",
     "output_type": "stream",
     "text": [
      "estamos en una clase\n"
     ]
    }
   ],
   "source": [
    "string = \"\"\"\"Hoy estamos en una clase de repaso, el objetivo es intentar solucionar todas vuestras dudas, preguntad todo lo que queráis!\"\"\"\n",
    "#1\n",
    "stringmayus = string.upper()\n",
    "#2\n",
    "stringlowy = string.lower()\n",
    "#3\n",
    "texto_lista = string.split()\n",
    "#4\n",
    "texto_lista_corta = texto_lista[0:5]\n",
    "#5\n",
    "string_final = \" \".join(texto_lista_corta)\n",
    "#6\n",
    "#6.1\n",
    "x = string_final.find('el')\n",
    "#No esta la palabra en el string\n",
    "#6.2\n",
    "stringf = string_final.replace(\"Hoy\",\"  \")\n",
    "#6.3 \n",
    "stringf1 = stringf[4:]\n",
    "print(stringf1)\n"
   ]
  },
  {
   "attachments": {},
   "cell_type": "markdown",
   "metadata": {},
   "source": [
    "**Encuentra el número que no está en la lista**\n",
    "\n",
    "Tenemos una lista desordenada con números positivos de 1 a n. Siempre faltará un sólo número de esta lista aleatoria, ¿cómo identifico cuál falta? Cread un programa para que este código devuelva los resultados deseados:\n",
    "\n",
    "```python\n",
    "lista1 = [3,7,1,2,8,4,5] # nos tiene que devolver 6\n",
    "lista2 = [4,6,1,3,5] #  nos tiene que devolver 2\n",
    "lista3 = [34,35,36,38,39,40] # nos tiene que devolver 37\n",
    "```\n",
    "\n",
    "BONUS: Introduce los resultados obtenidos en un diccionario, indicando que numero falta para cada una de las listas:\n",
    "```python\n",
    "# por ejemplo\n",
    "\n",
    "resultados = {'falta_lista_1': valor_numerico_1, 'falta_lista_2': valor_numerico_2, 'falta_lista_3': valor_numerico_3}\n",
    "```"
   ]
  },
  {
   "cell_type": "code",
   "execution_count": 18,
   "metadata": {},
   "outputs": [],
   "source": [
    "lista1 = [3,7,1,2,8,4,5]\n",
    "lista2 = [4,6,1,3,5] \n",
    "lista3 = [34,35,36,38,39,40]\n"
   ]
  },
  {
   "cell_type": "code",
   "execution_count": 109,
   "metadata": {},
   "outputs": [
    {
     "name": "stdout",
     "output_type": "stream",
     "text": [
      "[1, 2, 3, 4, 5, 7, 8]\n",
      "Falta el número 6\n"
     ]
    }
   ],
   "source": [
    "lista1.sort()\n",
    "mini = min(lista1)\n",
    "print(lista1)\n",
    "for i in range(len(lista1)):\n",
    "    if mini + i not in lista1:\n",
    "        print('Falta el número', mini+i)"
   ]
  },
  {
   "cell_type": "code",
   "execution_count": 110,
   "metadata": {},
   "outputs": [
    {
     "name": "stdout",
     "output_type": "stream",
     "text": [
      "[1, 3, 4, 5, 6]\n",
      "Falta el número 2\n"
     ]
    }
   ],
   "source": [
    "lista2.sort()\n",
    "mini = min(lista2)\n",
    "print(lista2)\n",
    "for i in range(len(lista2)):\n",
    "    if mini + i not in lista2:\n",
    "        print('Falta el número', mini+i)"
   ]
  },
  {
   "cell_type": "code",
   "execution_count": 23,
   "metadata": {},
   "outputs": [
    {
     "name": "stdout",
     "output_type": "stream",
     "text": [
      "[34, 35, 36, 38, 39, 40]\n",
      "Falta el número 37\n"
     ]
    }
   ],
   "source": [
    "lista3.sort()\n",
    "mini = min(lista3)\n",
    "print(lista3)\n",
    "for i in range(len(lista3)):\n",
    "    if mini + i not in lista3:\n",
    "        print('Falta el número', mini+i)"
   ]
  },
  {
   "cell_type": "code",
   "execution_count": 111,
   "metadata": {},
   "outputs": [],
   "source": [
    "numeros_que_faltan = {'lista_1': 6,'lista_2': 2, 'lista_3': 3 }"
   ]
  },
  {
   "attachments": {},
   "cell_type": "markdown",
   "metadata": {},
   "source": [
    "**Mover los ceros a la izquierda**\n",
    "\n",
    "Nos dan un *string* con números aleatorios. Algunos de ellos son 0. Encuentra todos los ceros y ponlos al principio de la lista, manteniendo el orden de los demás números.\n",
    "\n",
    "Ejemplo:\n",
    "\n",
    "```python\n",
    "A = [1,10,88,0,59,63,0,20,0]\n",
    "\n",
    "# tiene que devolver\n",
    "[0, 0, 0, 1, 10, 88, 59, 63, 20]\n",
    "```"
   ]
  },
  {
   "cell_type": "code",
   "execution_count": 26,
   "metadata": {},
   "outputs": [
    {
     "name": "stdout",
     "output_type": "stream",
     "text": [
      "[0, 0, 0, 1, 10, 88, 59, 63, 20]\n"
     ]
    }
   ],
   "source": [
    "A =  [1,10,88,0,59,63,0,20,0]\n",
    "lista_ceros = []\n",
    "lista_num = []\n",
    "\n",
    "for i in A:\n",
    "    if i == 0:\n",
    "        lista_ceros.append(i)\n",
    "    else:\n",
    "        lista_num.append(i)\n",
    "\n",
    "listaf = lista_ceros + lista_num\n",
    "print(listaf)\n"
   ]
  },
  {
   "attachments": {},
   "cell_type": "markdown",
   "metadata": {},
   "source": [
    "**Invertir palabras de una frase**\n",
    "\n",
    "Nos dan una frase en que quieren que las letras de cada palabra acaben teniendo el orden invertido, manteniendo el orden de las palabras.\n",
    "\n",
    "```python\n",
    "frase = 'Hola Ada'\n",
    "print(frase) # nos daría 'aloH adA'\n",
    "```"
   ]
  },
  {
   "cell_type": "code",
   "execution_count": 28,
   "metadata": {},
   "outputs": [
    {
     "name": "stdout",
     "output_type": "stream",
     "text": [
      "Hola Ada\n"
     ]
    }
   ],
   "source": [
    "frase = 'Hola Ada'\n",
    "frase_lista = frase.split()\n",
    "palabra1 = frase_lista[0]\n",
    "palabra2 = frase_lista[1]\n",
    "print(palabra1, palabra2)\n"
   ]
  },
  {
   "cell_type": "code",
   "execution_count": 29,
   "metadata": {},
   "outputs": [
    {
     "name": "stdout",
     "output_type": "stream",
     "text": [
      "['a', 'l', 'o', 'H']\n"
     ]
    }
   ],
   "source": [
    "lista_palabra1 = []\n",
    "i = -1\n",
    "\n",
    "for letra in palabra1:\n",
    "    lista_palabra1.append(palabra1[i])\n",
    "    i -= 1\n",
    "print(lista_palabra1)"
   ]
  },
  {
   "cell_type": "code",
   "execution_count": 30,
   "metadata": {},
   "outputs": [
    {
     "name": "stdout",
     "output_type": "stream",
     "text": [
      "['a', 'd', 'A']\n"
     ]
    }
   ],
   "source": [
    "lista_palabra2 = []\n",
    "i = -1\n",
    "for letras in palabra2:\n",
    "    lista_palabra2.append(palabra2[i])\n",
    "    i -= 1\n",
    "print(lista_palabra2)"
   ]
  },
  {
   "cell_type": "code",
   "execution_count": 36,
   "metadata": {},
   "outputs": [
    {
     "name": "stdout",
     "output_type": "stream",
     "text": [
      "['aloH', 'adA']\n",
      "aloH adA\n"
     ]
    }
   ],
   "source": [
    "palabra1f=''.join(lista_palabra1)\n",
    "palabra2f=''.join(lista_palabra2)\n",
    "listafin = [palabra1f,palabra2f]\n",
    "print(listafin)\n",
    "frasef = ' '.join(listafin)\n",
    "print(frasef)"
   ]
  },
  {
   "attachments": {},
   "cell_type": "markdown",
   "metadata": {},
   "source": [
    "###  ¿Es un DNI valido?\n",
    "\n",
    "Los DNI españoles pueden ser:\n",
    "\n",
    "- NIF (Numero de Identificación Fiscal) - 8 numeros y una letra, o\n",
    "- NIE (Numero de Identificación de Extranjeros) - 1 letra, 7 numeros y 1 letra."
   ]
  },
  {
   "cell_type": "code",
   "execution_count": 104,
   "metadata": {},
   "outputs": [],
   "source": [
    "lista_dni = [\"X-1234567-Z\", \"X-1234567\", \"12345678-M\", \"1234567-T\", \"12345677\"] "
   ]
  },
  {
   "cell_type": "code",
   "execution_count": 112,
   "metadata": {},
   "outputs": [
    {
     "name": "stdout",
     "output_type": "stream",
     "text": [
      "X-1234567-Z es un NIE\n",
      "No es un DNI o NIE valido\n",
      "No es un DNI o NIE valido\n",
      "12345678-M es un NIF\n",
      "No es un DNI o NIE valido\n",
      "No es un DNI o NIE valido\n"
     ]
    }
   ],
   "source": [
    "i = 0\n",
    "\n",
    "for dni in lista_dni:\n",
    "    if len(dni) == 11:\n",
    "        if dni[i].isalpha() == True:\n",
    "            if dni[-1].isalpha() == True: \n",
    "                print(f'{dni} es un NIE')\n",
    "    if len(dni) == 10:          \n",
    "        if dni[0:7].isnumeric() == True:\n",
    "            if dni[-1].isalpha() == True:\n",
    "                print(f'{dni} es un NIF')\n",
    "    else:\n",
    "        print ('No es un DNI o NIE valido')\n"
   ]
  },
  {
   "attachments": {},
   "cell_type": "markdown",
   "metadata": {},
   "source": [
    "**BONUS: Encuentra los k números más cerca a X**\n",
    "\n",
    "\n",
    "Haz una programa que compare los contenidos de una lista a un número dado X. Queremos que nos devuelva los k números que son más parecidos al número dado.\n",
    "\n",
    "Ejemplo:\n",
    "```python\n",
    "L = [4, 19, -5, 100, 53, 43, 74, -83, 13.5, 26]\n",
    "# Dados los siguientes valores \n",
    "x =30\n",
    "k = 3 # el número de números que tendremos que buscar en la lista que se parecen a 30 \n",
    "# El output debería ser igual a [26, 19, 43]\n",
    "```"
   ]
  },
  {
   "cell_type": "code",
   "execution_count": 55,
   "metadata": {},
   "outputs": [
    {
     "name": "stdout",
     "output_type": "stream",
     "text": [
      "[26, 11, 35, 70, 23, 13, 44, 113, 16.5, 4]\n"
     ]
    }
   ],
   "source": [
    "L = [4,19,-5,100,53,43,74,-83, 13.5, 26]\n",
    "lista_dif = []\n",
    "num1 = 30\n",
    "\n",
    "\n",
    "for num2 in L:\n",
    "        if num1-num2 < 0:\n",
    "                lista_dif.append(-(num1-num2))\n",
    "        else: \n",
    "                lista_dif.append(num1-num2)\n",
    "  \n",
    "print(lista_dif)\n"
   ]
  },
  {
   "cell_type": "code",
   "execution_count": 56,
   "metadata": {},
   "outputs": [
    {
     "name": "stdout",
     "output_type": "stream",
     "text": [
      "{4: 26, 19: 11, -5: 35, 100: 70, 53: 23, 43: 13, 74: 44, -83: 113, 13.5: 16.5, 26: 4}\n"
     ]
    }
   ],
   "source": [
    "pares = dict(zip(L,lista_dif))\n",
    "print(pares)"
   ]
  },
  {
   "cell_type": "code",
   "execution_count": 96,
   "metadata": {},
   "outputs": [
    {
     "name": "stdout",
     "output_type": "stream",
     "text": [
      "[4, 11, 13, 16.5, 23, 26, 35, 44, 70, 113]\n"
     ]
    }
   ],
   "source": [
    "paresf = sorted(pares.values())\n",
    "print(paresf)\n",
    "valuef = []\n",
    "i = 0"
   ]
  },
  {
   "cell_type": "code",
   "execution_count": 103,
   "metadata": {},
   "outputs": [
    {
     "name": "stdout",
     "output_type": "stream",
     "text": [
      "[26, 19, 43, 13.5, 53, 4, -5, 74, 100, -83]\n",
      "[26, 19, 43]\n"
     ]
    }
   ],
   "source": [
    "valuef = []\n",
    "i = 0\n",
    "\n",
    "for m in paresf: \n",
    "    for k,v in pares.items():\n",
    "            if m == v: \n",
    "                valuef.append(k)\n",
    "valores = valuef[0:3]\n",
    "print(valores)"
   ]
  }
 ],
 "metadata": {
  "kernelspec": {
   "display_name": "Python 3",
   "language": "python",
   "name": "python3"
  },
  "language_info": {
   "codemirror_mode": {
    "name": "ipython",
    "version": 3
   },
   "file_extension": ".py",
   "mimetype": "text/x-python",
   "name": "python",
   "nbconvert_exporter": "python",
   "pygments_lexer": "ipython3",
   "version": "3.9.7"
  },
  "orig_nbformat": 4,
  "vscode": {
   "interpreter": {
    "hash": "31f2aee4e71d21fbe5cf8b01ff0e069b9275f58929596ceb00d14d90e3e16cd6"
   }
  }
 },
 "nbformat": 4,
 "nbformat_minor": 2
}
